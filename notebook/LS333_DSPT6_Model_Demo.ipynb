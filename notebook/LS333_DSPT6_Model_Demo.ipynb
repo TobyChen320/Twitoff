{
 "cells": [
  {
   "cell_type": "code",
   "execution_count": 1,
   "metadata": {},
   "outputs": [],
   "source": [
    "import sqlite3\n",
    "import pickle\n",
    "import pandas as pd"
   ]
  },
  {
   "cell_type": "code",
   "execution_count": 2,
   "metadata": {},
   "outputs": [],
   "source": [
    "conn = sqlite3.connect('../twitoff/twitoff.sqlite')"
   ]
  },
  {
   "cell_type": "code",
   "execution_count": 3,
   "metadata": {},
   "outputs": [],
   "source": [
    "def get_data(query, conn):\n",
    "    '''Function to get data from SQLite DB'''\n",
    "    \n",
    "    cursor = conn.cursor()\n",
    "    result = cursor.execute(query).fetchall()\n",
    "\n",
    "    # Get columns from cursor object\n",
    "    columns = list(map(lambda x: x[0], cursor.description))\n",
    "\n",
    "    # Assign to DataFrame\n",
    "    df = pd.DataFrame(data=result, columns=columns)\n",
    "    return df"
   ]
  },
  {
   "cell_type": "code",
   "execution_count": 4,
   "metadata": {},
   "outputs": [
    {
     "name": "stdout",
     "output_type": "stream",
     "text": [
      "(532, 5)\n"
     ]
    },
    {
     "data": {
      "text/html": [
       "<div>\n",
       "<style scoped>\n",
       "    .dataframe tbody tr th:only-of-type {\n",
       "        vertical-align: middle;\n",
       "    }\n",
       "\n",
       "    .dataframe tbody tr th {\n",
       "        vertical-align: top;\n",
       "    }\n",
       "\n",
       "    .dataframe thead th {\n",
       "        text-align: right;\n",
       "    }\n",
       "</style>\n",
       "<table border=\"1\" class=\"dataframe\">\n",
       "  <thead>\n",
       "    <tr style=\"text-align: right;\">\n",
       "      <th></th>\n",
       "      <th>id</th>\n",
       "      <th>text</th>\n",
       "      <th>embedding</th>\n",
       "      <th>username</th>\n",
       "      <th>embedding_decoded</th>\n",
       "    </tr>\n",
       "  </thead>\n",
       "  <tbody>\n",
       "    <tr>\n",
       "      <th>0</th>\n",
       "      <td>1294101630871384071</td>\n",
       "      <td>Degree of difficulty off the charts. 🤯\\n\\n📺: @...</td>\n",
       "      <td>b'\\x80\\x04\\x95\\x05\\x1b\\x00\\x00\\x00\\x00\\x00\\x00...</td>\n",
       "      <td>nba</td>\n",
       "      <td>[-0.459334, -0.403374, 1.00874, -0.186087, 1.5...</td>\n",
       "    </tr>\n",
       "    <tr>\n",
       "      <th>1</th>\n",
       "      <td>1294097604201132038</td>\n",
       "      <td>The @trailblazers lead the @BrooklynNets 73-67...</td>\n",
       "      <td>b'\\x80\\x04\\x95\\x05\\x1b\\x00\\x00\\x00\\x00\\x00\\x00...</td>\n",
       "      <td>nba</td>\n",
       "      <td>[-0.202672, -0.143187, 0.506858, -0.555718, 0....</td>\n",
       "    </tr>\n",
       "    <tr>\n",
       "      <th>2</th>\n",
       "      <td>1294096288808685574</td>\n",
       "      <td>🔥 @trailblazers backcourt with 35 PTS and 11 A...</td>\n",
       "      <td>b'\\x80\\x04\\x95\\x05\\x1b\\x00\\x00\\x00\\x00\\x00\\x00...</td>\n",
       "      <td>nba</td>\n",
       "      <td>[-0.577384, -0.452478, 0.250774, -0.262425, 0....</td>\n",
       "    </tr>\n",
       "    <tr>\n",
       "      <th>3</th>\n",
       "      <td>1294093313230938112</td>\n",
       "      <td>CJ gets to his spot for the PURE jumper.\\n\\n#W...</td>\n",
       "      <td>b'\\x80\\x04\\x95\\x05\\x1b\\x00\\x00\\x00\\x00\\x00\\x00...</td>\n",
       "      <td>nba</td>\n",
       "      <td>[-0.392507, -0.320284, 0.780428, -0.154092, 0....</td>\n",
       "    </tr>\n",
       "    <tr>\n",
       "      <th>4</th>\n",
       "      <td>1294092657640210434</td>\n",
       "      <td>Back-to-back ABSURD threes for Dame...😳 https:...</td>\n",
       "      <td>b'\\x80\\x04\\x95\\x05\\x1b\\x00\\x00\\x00\\x00\\x00\\x00...</td>\n",
       "      <td>nba</td>\n",
       "      <td>[-0.591236, -0.193994, 0.592527, -0.714257, 0....</td>\n",
       "    </tr>\n",
       "  </tbody>\n",
       "</table>\n",
       "</div>"
      ],
      "text/plain": [
       "                    id                                               text  \\\n",
       "0  1294101630871384071  Degree of difficulty off the charts. 🤯\\n\\n📺: @...   \n",
       "1  1294097604201132038  The @trailblazers lead the @BrooklynNets 73-67...   \n",
       "2  1294096288808685574  🔥 @trailblazers backcourt with 35 PTS and 11 A...   \n",
       "3  1294093313230938112  CJ gets to his spot for the PURE jumper.\\n\\n#W...   \n",
       "4  1294092657640210434  Back-to-back ABSURD threes for Dame...😳 https:...   \n",
       "\n",
       "                                           embedding username  \\\n",
       "0  b'\\x80\\x04\\x95\\x05\\x1b\\x00\\x00\\x00\\x00\\x00\\x00...      nba   \n",
       "1  b'\\x80\\x04\\x95\\x05\\x1b\\x00\\x00\\x00\\x00\\x00\\x00...      nba   \n",
       "2  b'\\x80\\x04\\x95\\x05\\x1b\\x00\\x00\\x00\\x00\\x00\\x00...      nba   \n",
       "3  b'\\x80\\x04\\x95\\x05\\x1b\\x00\\x00\\x00\\x00\\x00\\x00...      nba   \n",
       "4  b'\\x80\\x04\\x95\\x05\\x1b\\x00\\x00\\x00\\x00\\x00\\x00...      nba   \n",
       "\n",
       "                                   embedding_decoded  \n",
       "0  [-0.459334, -0.403374, 1.00874, -0.186087, 1.5...  \n",
       "1  [-0.202672, -0.143187, 0.506858, -0.555718, 0....  \n",
       "2  [-0.577384, -0.452478, 0.250774, -0.262425, 0....  \n",
       "3  [-0.392507, -0.320284, 0.780428, -0.154092, 0....  \n",
       "4  [-0.591236, -0.193994, 0.592527, -0.714257, 0....  "
      ]
     },
     "execution_count": 4,
     "metadata": {},
     "output_type": "execute_result"
    }
   ],
   "source": [
    "query = '''\n",
    "SELECT \n",
    "  tweet.id,\n",
    "  tweet.text,\n",
    "  tweet.embedding,\n",
    "  user.username\n",
    "FROM tweet\n",
    "JOIN user ON tweet.user_id = user.id;\n",
    "'''\n",
    "\n",
    "df = get_data(query, conn)\n",
    "df['embedding_decoded'] = df.embedding.apply(lambda x: pickle.loads(x[2:]))\n",
    "print(df.shape)\n",
    "df.head()"
   ]
  },
  {
   "cell_type": "code",
   "execution_count": 5,
   "metadata": {},
   "outputs": [
    {
     "data": {
      "text/plain": [
       "jeffbezos    185\n",
       "nasa         129\n",
       "nba          127\n",
       "macjabeth     59\n",
       "elonmusk      22\n",
       "walmart       10\n",
       "Name: username, dtype: int64"
      ]
     },
     "execution_count": 5,
     "metadata": {},
     "output_type": "execute_result"
    }
   ],
   "source": [
    "df.username.value_counts()"
   ]
  },
  {
   "cell_type": "code",
   "execution_count": 6,
   "metadata": {},
   "outputs": [
    {
     "name": "stdout",
     "output_type": "stream",
     "text": [
      "(151, 768) (151,)\n"
     ]
    }
   ],
   "source": [
    "import numpy as np\n",
    "\n",
    "user1_embeddings = df.embedding_decoded[df.username=='elonmusk']\n",
    "user2_embeddings = df.embedding_decoded[df.username=='nasa']\n",
    "embeddings = pd.concat([user1_embeddings, user2_embeddings])\n",
    "\n",
    "embeddings_df = pd.DataFrame(embeddings.tolist(),\n",
    "                             columns=[f'dim{i}' for i in range(768)])\n",
    "labels = np.concatenate([np.ones(len(user1_embeddings)), \n",
    "                         np.zeros(len(user2_embeddings))])\n",
    "print(embeddings_df.shape, labels.shape)"
   ]
  },
  {
   "cell_type": "code",
   "execution_count": 7,
   "metadata": {},
   "outputs": [
    {
     "name": "stdout",
     "output_type": "stream",
     "text": [
      "(113, 768) (38, 768)\n"
     ]
    }
   ],
   "source": [
    "from sklearn.model_selection import train_test_split\n",
    "\n",
    "X_train, X_test, y_train, y_test = train_test_split(\n",
    "    embeddings_df, labels, test_size=0.25, random_state=42)\n",
    "\n",
    "print(X_train.shape, X_test.shape)"
   ]
  },
  {
   "cell_type": "code",
   "execution_count": 8,
   "metadata": {},
   "outputs": [
    {
     "data": {
      "text/plain": [
       "LogisticRegression(max_iter=1000)"
      ]
     },
     "execution_count": 8,
     "metadata": {},
     "output_type": "execute_result"
    }
   ],
   "source": [
    "from sklearn.linear_model import LogisticRegression\n",
    "\n",
    "lr = LogisticRegression(max_iter=1000)\n",
    "lr.fit(X_train, y_train)"
   ]
  },
  {
   "cell_type": "code",
   "execution_count": 9,
   "metadata": {},
   "outputs": [
    {
     "name": "stdout",
     "output_type": "stream",
     "text": [
      "              precision    recall  f1-score   support\n",
      "\n",
      "         0.0       1.00      1.00      1.00        32\n",
      "         1.0       1.00      1.00      1.00         6\n",
      "\n",
      "    accuracy                           1.00        38\n",
      "   macro avg       1.00      1.00      1.00        38\n",
      "weighted avg       1.00      1.00      1.00        38\n",
      "\n"
     ]
    },
    {
     "data": {
      "image/png": "[encoded data removed]",
      "text/plain": [
       "<Figure size 432x288 with 2 Axes>"
      ]
     },
     "metadata": {
      "needs_background": "light"
     },
     "output_type": "display_data"
    }
   ],
   "source": [
    "import matplotlib.pyplot as plt\n",
    "from sklearn.metrics import classification_report, plot_confusion_matrix\n",
    "\n",
    "y_pred = lr.predict(X_test)\n",
    "print(classification_report(y_test, y_pred))\n",
    "\n",
    "plot_confusion_matrix(lr, X_test, y_test, cmap='Blues')\n",
    "plt.title('LogReg Confusion Matrix');"
   ]
  },
  {
   "cell_type": "code",
   "execution_count": 11,
   "metadata": {},
   "outputs": [],
   "source": [
    "pickle.dump(lr, open(\"../models/logreg.pkl\", \"wb\"))"
   ]
  },
  {
   "cell_type": "code",
   "execution_count": 12,
   "metadata": {},
   "outputs": [
    {
     "data": {
      "text/plain": [
       "LogisticRegression(max_iter=1000)"
      ]
     },
     "execution_count": 12,
     "metadata": {},
     "output_type": "execute_result"
    }
   ],
   "source": [
    "lr_unpickled = pickle.load(open(\"../models/logreg.pkl\", \"rb\"))\n",
    "lr_unpickled"
   ]
  },
  {
   "cell_type": "code",
   "execution_count": 13,
   "metadata": {},
   "outputs": [],
   "source": [
    "import basilica\n",
    "\n",
    "BASILICA_KEY='475acaa5-8aa3-f9a2-d30d-4bea3b11addd'\n",
    "BASILICA = basilica.Connection(BASILICA_KEY)"
   ]
  },
  {
   "cell_type": "code",
   "execution_count": 14,
   "metadata": {},
   "outputs": [],
   "source": [
    "example_embedding = BASILICA.embed_sentence('The MARS rover just reported new and interesting data!', model='twitter')"
   ]
  },
  {
   "cell_type": "code",
   "execution_count": 15,
   "metadata": {},
   "outputs": [
    {
     "data": {
      "text/plain": [
       "1.0"
      ]
     },
     "execution_count": 15,
     "metadata": {},
     "output_type": "execute_result"
    }
   ],
   "source": [
    "lr_unpickled.predict([example_embedding])[0]"
   ]
  },
  {
   "cell_type": "code",
   "execution_count": null,
   "metadata": {},
   "outputs": [],
   "source": []
  }
 ],
 "metadata": {
  "kernelspec": {
   "display_name": "Python 3",
   "language": "python",
   "name": "python3"
  },
  "language_info": {
   "codemirror_mode": {
    "name": "ipython",
    "version": 3
   },
   "file_extension": ".py",
   "mimetype": "text/x-python",
   "name": "python",
   "nbconvert_exporter": "python",
   "pygments_lexer": "ipython3",
   "version": "3.7.6"
  }
 },
 "nbformat": 4,
 "nbformat_minor": 4
}
